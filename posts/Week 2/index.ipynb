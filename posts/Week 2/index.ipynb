{
  "cells": [
    {
      "cell_type": "raw",
      "metadata": {},
      "source": [
        "---\n",
        "title: \"A Weekly Cognitive Psychology Blog: Week Number Two\"\n",
        "      \n",
        "author: \"C Miller\"\n",
        "date: \"2023-09-13\"\n",
        "theme: \"quartz\"\n",
        "\n",
        "---"
      ],
      "id": "c702646d"
    },
    {
      "cell_type": "markdown",
      "metadata": {},
      "source": [
        "### HTML and Javascript interactivity\n",
        "\n",
        "\n",
        "##### Using Javascript to Interact with Users Using Color-coded Buttons\n",
        "\n",
        "\n",
        "\n",
        "```{html}\n",
        "\n",
        "<!DOCTYPE html>\n",
        "<html>\n",
        "  \n",
        "  <head>\n",
        "    \n",
        "  \n",
        "  </head>\n",
        "  \n",
        "  \n",
        "  <body>\n",
        "  \n",
        "  <h1> Testing Button Functions for Behavioral Experiments</h1>\n",
        "    \n",
        "    <p>\n",
        "      TEXT\n",
        "    </p>\n",
        "    \n",
        "    \n",
        "    \n",
        "    <button onclick=\"colorBlack()\">Black</button>\n",
        "    \n",
        "    \n",
        "    <script>\n",
        "      \n",
        "      function colorBlack() {\n",
        "        document.body.style.background=\"black\";\n",
        "      \n",
        "        document.querySelectorAll('h1').style.color=\"white\";\n",
        "      }\n",
        "      \n",
        "      \n",
        "      \n",
        "    </script>\n",
        "    \n",
        "  \n",
        "  </body>\n",
        "  \n",
        "</html>\n",
        "\n",
        "```"
      ],
      "id": "9b3eb319"
    }
  ],
  "metadata": {
    "kernelspec": {
      "display_name": "Python 3",
      "language": "python",
      "name": "python3"
    }
  },
  "nbformat": 4,
  "nbformat_minor": 5
}